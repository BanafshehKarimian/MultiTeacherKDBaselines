{
 "cells": [
  {
   "cell_type": "code",
   "execution_count": 1,
   "metadata": {},
   "outputs": [],
   "source": [
    "import numpy as np\n",
    "import pandas as pd\n",
    "def model_comparison_matrix(preds_a, preds_b, targets):\n",
    "    preds_a = np.array(preds_a)\n",
    "    preds_b = np.array(preds_b)\n",
    "    targets = np.array(targets)\n",
    "\n",
    "    a_correct = preds_a == targets\n",
    "    b_correct = preds_b == targets\n",
    "\n",
    "    matrix = np.zeros((2, 2), dtype=int)\n",
    "    \n",
    "    matrix[0, 0] = np.sum(~a_correct & ~b_correct)       # both wrong\n",
    "    matrix[1, 0] = np.sum(a_correct & ~b_correct)        # A correct, B wrong\n",
    "    matrix[0, 1] = np.sum(~a_correct & b_correct)        # A wrong, B correct\n",
    "    matrix[1, 1] = np.sum(a_correct & b_correct)         # both correct\n",
    "\n",
    "    return matrix"
   ]
  },
  {
   "cell_type": "code",
   "execution_count": 14,
   "metadata": {},
   "outputs": [],
   "source": [
    "def load_predictions(csv_path):\n",
    "    df = pd.read_csv(csv_path)\n",
    "    # Parse stringified lists in 'predictions' column\n",
    "    df['predictions'] = df[['logit_0','logit_1']].values.tolist()\n",
    "    # Convert logits to predicted class index\n",
    "    df['pred_class'] = df['predictions'].apply(lambda x: np.argmax(x))\n",
    "    return df['pred_class'].to_numpy(), df['target'].to_numpy()\n",
    "\n",
    "# Load both CSVs\n",
    "preds_a, targets = load_predictions('results_pcam_DINOL14.csv')\n",
    "preds_b, _       = load_predictions('results_pcam_UNI.csv')"
   ]
  },
  {
   "cell_type": "code",
   "execution_count": 15,
   "metadata": {},
   "outputs": [
    {
     "data": {
      "text/plain": [
       "array([[ 1603,  2508],\n",
       "       [  410, 28247]])"
      ]
     },
     "execution_count": 15,
     "metadata": {},
     "output_type": "execute_result"
    }
   ],
   "source": [
    "model_comparison_matrix(preds_a, preds_b, targets)"
   ]
  }
 ],
 "metadata": {
  "kernelspec": {
   "display_name": "mtkdrl",
   "language": "python",
   "name": "python3"
  },
  "language_info": {
   "codemirror_mode": {
    "name": "ipython",
    "version": 3
   },
   "file_extension": ".py",
   "mimetype": "text/x-python",
   "name": "python",
   "nbconvert_exporter": "python",
   "pygments_lexer": "ipython3",
   "version": "3.10.14"
  }
 },
 "nbformat": 4,
 "nbformat_minor": 2
}

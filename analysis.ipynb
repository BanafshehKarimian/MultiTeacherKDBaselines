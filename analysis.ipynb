{
 "cells": [
  {
   "cell_type": "code",
   "execution_count": 40,
   "metadata": {},
   "outputs": [],
   "source": [
    "import torch\n",
    "from models.model_utils import get_models, models_size, models, ModelWrapper\n",
    "from dataset.pcam import get_pcam_dataloaders\n",
    "from tqdm import tqdm\n",
    "import numpy as np\n",
    "import pandas as pd\n",
    "device = \"cuda\" if torch.cuda.is_available() else \"cpu\""
   ]
  },
  {
   "cell_type": "code",
   "execution_count": 32,
   "metadata": {},
   "outputs": [],
   "source": [
    "def get_logits(data, model):\n",
    "    labels = []\n",
    "    logits = []\n",
    "    model.to(device)\n",
    "    model.eval()\n",
    "    for img, label in tqdm(data):\n",
    "        with torch.no_grad():\n",
    "            _, logit = model(img.to(device))\n",
    "        labels.append(label)\n",
    "        logits.append(logit)\n",
    "    return torch.cat(logits).cpu().numpy(), torch.cat(labels).cpu().numpy()"
   ]
  },
  {
   "cell_type": "code",
   "execution_count": 45,
   "metadata": {},
   "outputs": [
    {
     "name": "stderr",
     "output_type": "stream",
     "text": [
      "/export/livia/home/vision/Bkarimian/miniconda3/envs/conch/lib/python3.10/site-packages/torchvision/transforms/v2/_deprecated.py:42: UserWarning: The transform `ToTensor()` is deprecated and will be removed in a future release. Instead, please use `v2.Compose([v2.ToImage(), v2.ToDtype(torch.float32, scale=True)])`.Output is equivalent up to float precision.\n",
      "  warnings.warn(\n",
      "Using cache found in /export/livia/home/vision/Bkarimian/.cache/torch/hub/kaiko-ai_towards_large_pathology_fms_main\n",
      "  4%|▍         | 20/512 [00:13<05:25,  1.51it/s]"
     ]
    }
   ],
   "source": [
    "train_loader, val_loader, test_loader = get_pcam_dataloaders(\"\", batch_size=64, num_workers=4, shuffle_train=False)\n",
    "log_train = {}\n",
    "log_test = {}\n",
    "log_val = {}\n",
    "base = \"./chkpnt/teachers/checkpoints/\"\n",
    "num_classes = 2\n",
    "for name in models.keys(): \n",
    "    model = models[name]()\n",
    "    checkpoint = torch.load(base+f\"pcam_{name}.ckpt\")\n",
    "    checkpoint['state_dict'] = {k.replace(\"model.\",\"\"): v for k,v in checkpoint['state_dict'].items()}\n",
    "    in_features = checkpoint['state_dict']['fc.weight'].shape[1]\n",
    "    model.fc = torch.nn.Linear(in_features, num_classes)\n",
    "    model.load_state_dict(checkpoint['state_dict'], strict = True)\n",
    "    model = ModelWrapper(model)\n",
    "    yp, y = get_logits(test_loader, model)\n",
    "    log_test[name] = yp\n",
    "    yp, y = get_logits(val_loader, model)\n",
    "    log_val[name] = yp\n",
    "    yp, y = get_logits(train_loader, model)\n",
    "    log_train[name] = yp"
   ]
  },
  {
   "cell_type": "code",
   "execution_count": null,
   "metadata": {},
   "outputs": [],
   "source": [
    "np.savez(\"./chkpnt/test_logits.npz\", **log_test)\n"
   ]
  },
  {
   "cell_type": "code",
   "execution_count": null,
   "metadata": {},
   "outputs": [
    {
     "data": {
      "text/html": [
       "<div>\n",
       "<style scoped>\n",
       "    .dataframe tbody tr th:only-of-type {\n",
       "        vertical-align: middle;\n",
       "    }\n",
       "\n",
       "    .dataframe tbody tr th {\n",
       "        vertical-align: top;\n",
       "    }\n",
       "\n",
       "    .dataframe thead th {\n",
       "        text-align: right;\n",
       "    }\n",
       "</style>\n",
       "<table border=\"1\" class=\"dataframe\">\n",
       "  <thead>\n",
       "    <tr style=\"text-align: right;\">\n",
       "      <th></th>\n",
       "      <th>model</th>\n",
       "      <th>logits_0</th>\n",
       "      <th>logits_1</th>\n",
       "    </tr>\n",
       "  </thead>\n",
       "  <tbody>\n",
       "    <tr>\n",
       "      <th>0</th>\n",
       "      <td>DINOL14</td>\n",
       "      <td>1.672314</td>\n",
       "      <td>-1.205865</td>\n",
       "    </tr>\n",
       "    <tr>\n",
       "      <th>1</th>\n",
       "      <td>DINOL14</td>\n",
       "      <td>-4.421470</td>\n",
       "      <td>4.478689</td>\n",
       "    </tr>\n",
       "    <tr>\n",
       "      <th>2</th>\n",
       "      <td>DINOL14</td>\n",
       "      <td>2.958307</td>\n",
       "      <td>-1.599156</td>\n",
       "    </tr>\n",
       "    <tr>\n",
       "      <th>3</th>\n",
       "      <td>DINOL14</td>\n",
       "      <td>-8.745443</td>\n",
       "      <td>10.118289</td>\n",
       "    </tr>\n",
       "    <tr>\n",
       "      <th>4</th>\n",
       "      <td>DINOL14</td>\n",
       "      <td>2.635189</td>\n",
       "      <td>-0.246823</td>\n",
       "    </tr>\n",
       "  </tbody>\n",
       "</table>\n",
       "</div>"
      ],
      "text/plain": [
       "     model  logits_0   logits_1\n",
       "0  DINOL14  1.672314  -1.205865\n",
       "1  DINOL14 -4.421470   4.478689\n",
       "2  DINOL14  2.958307  -1.599156\n",
       "3  DINOL14 -8.745443  10.118289\n",
       "4  DINOL14  2.635189  -0.246823"
      ]
     },
     "execution_count": 44,
     "metadata": {},
     "output_type": "execute_result"
    }
   ],
   "source": [
    "loaded = np.load(\"./chkpnt/test_logits.npz\")\n",
    "data = {\"model\":[], \"logits_0\":[], \"logits_1\": []}\n",
    "for name in loaded.keys():\n",
    "    for l in loaded[name]:\n",
    "        data[\"model\"].append(name)\n",
    "        data[\"logits_0\"].append(l[0])\n",
    "        data[\"logits_1\"].append(l[1])\n",
    "df = pd.DataFrame(data)\n",
    "df.head()"
   ]
  }
 ],
 "metadata": {
  "kernelspec": {
   "display_name": "env",
   "language": "python",
   "name": "python3"
  },
  "language_info": {
   "codemirror_mode": {
    "name": "ipython",
    "version": 3
   },
   "file_extension": ".py",
   "mimetype": "text/x-python",
   "name": "python",
   "nbconvert_exporter": "python",
   "pygments_lexer": "ipython3",
   "version": "3.10.14"
  }
 },
 "nbformat": 4,
 "nbformat_minor": 2
}
